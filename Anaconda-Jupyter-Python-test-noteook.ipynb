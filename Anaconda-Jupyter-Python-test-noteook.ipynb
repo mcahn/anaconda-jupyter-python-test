{
 "cells": [
  {
   "cell_type": "markdown",
   "metadata": {},
   "source": [
    "## Test notebook\n",
    "\n",
    "- If you can see this, you have successfully run Jupyter and displayed an iPython notebook.\n",
    "- Now, click on the cell below and click the Run button above.\n",
    "  - The Python version will be printed, for example:\n",
    "  \n",
    "```\n",
    "3.8.3 (default, Jul  2 2020, 11:26:31) \n",
    "[Clang 10.0.0 ]\n",
    "```\n",
    "\n",
    "- Your version may be somewhat different, but you should have Python 3.5 or newer."
   ]
  },
  {
   "cell_type": "code",
   "execution_count": null,
   "metadata": {},
   "outputs": [],
   "source": [
    "import sys\n",
    "print(sys.version)"
   ]
  }
 ],
 "metadata": {
  "kernelspec": {
   "display_name": "Python 3",
   "language": "python",
   "name": "python3"
  },
  "language_info": {
   "codemirror_mode": {
    "name": "ipython",
    "version": 3
   },
   "file_extension": ".py",
   "mimetype": "text/x-python",
   "name": "python",
   "nbconvert_exporter": "python",
   "pygments_lexer": "ipython3",
   "version": "3.8.3"
  }
 },
 "nbformat": 4,
 "nbformat_minor": 4
}
